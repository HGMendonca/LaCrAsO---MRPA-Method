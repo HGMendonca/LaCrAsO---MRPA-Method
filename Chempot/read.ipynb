{
 "cells": [
  {
   "cell_type": "code",
   "execution_count": 1,
   "metadata": {},
   "outputs": [],
   "source": [
    "import numpy as np "
   ]
  },
  {
   "cell_type": "code",
   "execution_count": 2,
   "metadata": {},
   "outputs": [],
   "source": [
    "dat1 = np.loadtxt('MU256.dat')\n",
    "mu1 = dat1[:,3]\n",
    "\n",
    "dat2 = np.loadtxt('MU.dat')\n",
    "mu2 = dat2[:,3]"
   ]
  },
  {
   "cell_type": "code",
   "execution_count": 13,
   "metadata": {},
   "outputs": [
    {
     "name": "stdout",
     "output_type": "stream",
     "text": [
      "dop= -0.50 mu256= 11.386379906584898 mu1024= 11.390666410255879\n",
      "dop= -0.45 mu256= 11.39809277400027 mu1024= 11.402272243492522\n",
      "dop= -0.40 mu256= 11.408322891555738 mu1024= 11.412498772598008\n",
      "dop= -0.35 mu256= 11.418787858869074 mu1024= 11.422550819403204\n",
      "dop= -0.30 mu256= 11.428210092939576 mu1024= 11.43254850428511\n",
      "dop= -0.25 mu256= 11.438047997014012 mu1024= 11.442317067146371\n",
      "dop= -0.20 mu256= 11.44754680074425 mu1024= 11.451720578861131\n",
      "dop= -0.15 mu256= 11.456706139711333 mu1024= 11.460774404558856\n",
      "dop= -0.10 mu256= 11.465476301809204 mu1024= 11.469454795914986\n",
      "dop= -0.05 mu256= 11.473891690282812 mu1024= 11.477505139553143\n",
      "dop= 0.00 mu256= 11.481408589081846 mu1024= 11.484815871378903\n",
      "dop= 0.05 mu256= 11.488239853067338 mu1024= 11.49037263260529\n",
      "dop= 0.10 mu256= 11.492053290524487 mu1024= 11.49340336264908\n",
      "dop= 0.15 mu256= 11.494171929675437 mu1024= 11.495595508377528\n",
      "dop= 0.20 mu256= 11.50129223749955 mu1024= 11.507496917463175\n",
      "dop= 0.25 mu256= 11.51272422546057 mu1024= 11.518840369496274\n",
      "dop= 0.30 mu256= 11.523978033490907 mu1024= 11.529325033586035\n",
      "dop= 0.35 mu256= 11.534031720699874 mu1024= 11.539008998897742\n",
      "dop= 0.40 mu256= 11.542900649746855 mu1024= 11.547335178229595\n",
      "dop= 0.45 mu256= 11.550251926243202 mu1024= 11.553850062385736\n",
      "dop= 0.50 mu256= 11.557455035099508 mu1024= 11.562222341535648\n",
      "dop= 0.55 mu256= 11.56636374419684 mu1024= 11.571783472724968\n",
      "dop= 0.60 mu256= 11.57616214672002 mu1024= 11.582142843561464\n",
      "dop= 0.65 mu256= 11.586899718600012 mu1024= 11.593154086104805\n"
     ]
    }
   ],
   "source": [
    "for i in range(len(mu1)):\n",
    "    print('dop=',f'{round(-0.5+i*1.15/(len(mu1)-1),2):.2f}', 'mu256=', mu1[i], 'mu1024=', mu2[i])\n"
   ]
  },
  {
   "cell_type": "code",
   "execution_count": null,
   "metadata": {},
   "outputs": [],
   "source": []
  }
 ],
 "metadata": {
  "kernelspec": {
   "display_name": "base",
   "language": "python",
   "name": "python3"
  },
  "language_info": {
   "codemirror_mode": {
    "name": "ipython",
    "version": 3
   },
   "file_extension": ".py",
   "mimetype": "text/x-python",
   "name": "python",
   "nbconvert_exporter": "python",
   "pygments_lexer": "ipython3",
   "version": "3.11.8"
  }
 },
 "nbformat": 4,
 "nbformat_minor": 2
}
